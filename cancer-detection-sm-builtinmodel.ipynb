{
 "cells": [
  {
   "cell_type": "code",
   "execution_count": 1,
   "metadata": {},
   "outputs": [],
   "source": [
    "import boto3\n",
    "import sagemaker\n",
    "from sagemaker import get_execution_role\n",
    "from sagemaker.amazon.amazon_estimator import get_image_uri"
   ]
  },
  {
   "cell_type": "code",
   "execution_count": 12,
   "metadata": {},
   "outputs": [],
   "source": [
    "bucket='sagemaker-builtin-imageclass-cancer-detection'\n",
    "input_prefix='breast-cancer-detection/input/recordio'\n",
    "input_train='s3://{}/{}/train'.format(bucket,input_prefix)\n",
    "input_test='s3://{}/{}/test'.format(bucket,input_prefix)"
   ]
  },
  {
   "cell_type": "code",
   "execution_count": 3,
   "metadata": {},
   "outputs": [],
   "source": [
    "output_prefix='breast-cancer-detection/output'\n",
    "output_path='s3://{}/{}/'.format(bucket,output_prefix)"
   ]
  },
  {
   "cell_type": "code",
   "execution_count": 4,
   "metadata": {},
   "outputs": [],
   "source": [
    "# Cofiguring the hyperparameters\n",
    "\n",
    "num_classes=2\n",
    "num_trainnig_samples=194266\n",
    "num_layers=18\n",
    "mini_batch_size=128\n",
    "image_shape=(3,50,50)\n",
    "augmentation_type='crop_color_transform'\n",
    "epochs=5\n",
    "learning_rate=0.01\n",
    "use_pretrained_model=1\n",
    "\n"
   ]
  },
  {
   "cell_type": "code",
   "execution_count": 5,
   "metadata": {},
   "outputs": [],
   "source": [
    "instance_count=1\n",
    "instance_type='ml.p2.16xlarge'\n",
    "volume_size_gb=50"
   ]
  },
  {
   "cell_type": "code",
   "execution_count": 6,
   "metadata": {},
   "outputs": [
    {
     "name": "stderr",
     "output_type": "stream",
     "text": [
      "'get_image_uri' method will be deprecated in favor of 'ImageURIProvider' class in SageMaker Python SDK v2.\n"
     ]
    }
   ],
   "source": [
    "role=get_execution_role()\n",
    "training_image=get_image_uri(boto3.Session().region_name,'image-classification')"
   ]
  },
  {
   "cell_type": "code",
   "execution_count": 7,
   "metadata": {},
   "outputs": [],
   "source": [
    "train_timeout=360000\n"
   ]
  },
  {
   "cell_type": "code",
   "execution_count": 8,
   "metadata": {},
   "outputs": [],
   "source": [
    "session=sagemaker.Session()\n"
   ]
  },
  {
   "cell_type": "code",
   "execution_count": 9,
   "metadata": {},
   "outputs": [
    {
     "name": "stderr",
     "output_type": "stream",
     "text": [
      "Parameter image_name will be renamed to image_uri in SageMaker Python SDK v2.\n"
     ]
    }
   ],
   "source": [
    "estimator=sagemaker.estimator.Estimator(training_image,\n",
    "                                       role,\n",
    "                                       train_instance_count=instance_count,\n",
    "                                       train_instance_type=instance_type,\n",
    "                                       train_volume_size=volume_size_gb,\n",
    "                                       train_max_run=train_timeout,\n",
    "                                       output_path=output_path,\n",
    "                                       base_job_name='sm-builtin-img-classification'\n",
    "                                       )"
   ]
  },
  {
   "cell_type": "code",
   "execution_count": 10,
   "metadata": {},
   "outputs": [],
   "source": [
    "estimator.set_hyperparameters(num_classes=num_classes,\n",
    "                             num_trainnig_samples=num_trainnig_samples,\n",
    "                             num_layers=num_layers,\n",
    "                             mini_batch_size=mini_batch_size,\n",
    "                             image_shape=image_shape,\n",
    "                             augmentation_type=augmentation_type,\n",
    "                             epochs=epochs,\n",
    "                             learning_rate=learning_rate,\n",
    "                             use_pretrained_model=use_pretrained_model)"
   ]
  },
  {
   "cell_type": "code",
   "execution_count": 13,
   "metadata": {},
   "outputs": [
    {
     "name": "stderr",
     "output_type": "stream",
     "text": [
      "'s3_input' class will be renamed to 'TrainingInput' in SageMaker Python SDK v2.\n"
     ]
    },
    {
     "name": "stdout",
     "output_type": "stream",
     "text": [
      "2020-10-06 09:31:04 Starting - Starting the training job...\n",
      "2020-10-06 09:31:06 Starting - Launching requested ML instances............\n",
      "2020-10-06 09:33:23 Starting - Preparing the instances for training............\n",
      "2020-10-06 09:35:20 Downloading - Downloading input data...\n",
      "2020-10-06 09:35:42 Training - Downloading the training image...\n",
      "2020-10-06 09:36:32 Uploading - Uploading generated training model\u001b[34mDocker entrypoint called with argument(s): train\u001b[0m\n",
      "\u001b[34m[10/06/2020 09:36:30 INFO 140575959942976] Reading default configuration from /opt/amazon/lib/python2.7/site-packages/image_classification/default-input.json: {u'beta_1': 0.9, u'gamma': 0.9, u'beta_2': 0.999, u'optimizer': u'sgd', u'use_pretrained_model': 0, u'eps': 1e-08, u'epochs': 30, u'lr_scheduler_factor': 0.1, u'num_layers': 152, u'image_shape': u'3,224,224', u'precision_dtype': u'float32', u'mini_batch_size': 32, u'weight_decay': 0.0001, u'learning_rate': 0.1, u'momentum': 0}\u001b[0m\n",
      "\u001b[34m[10/06/2020 09:36:30 INFO 140575959942976] Merging with provided configuration from /opt/ml/input/config/hyperparameters.json: {u'learning_rate': u'0.01', u'use_pretrained_model': u'1', u'num_trainnig_samples': u'194266', u'epochs': u'5', u'augmentation_type': u'crop_color_transform', u'num_layers': u'18', u'mini_batch_size': u'128', u'image_shape': u'(3, 50, 50)', u'num_classes': u'2'}\u001b[0m\n",
      "\u001b[34m[10/06/2020 09:36:30 ERROR 140575959942976] Customer Error: No value(s) were specified for 'num_training_samples' which are required hyperparameter(s) (caused by ValidationError)\n",
      "\u001b[0m\n",
      "\u001b[34mCaused by: u'num_training_samples' is a required property\n",
      "\u001b[0m\n",
      "\u001b[34mFailed validating u'required' in schema:\n",
      "    {u'$schema': u'http://json-schema.org/schema#',\n",
      "     u'additionalProperties': False,\n",
      "     u'definitions': {u'boolean_0_1': {u'oneOf': [{u'enum': [u'0',\n",
      "                                                             u'1'],\n",
      "                                                   u'type': u'string'},\n",
      "                                                  {u'enum': [0, 1],\n",
      "                                                   u'type': u'number'}]},\n",
      "                      u'boolean_true_false_0_1': {u'oneOf': [{u'enum': [u'true',\n",
      "                                                                        u'false',\n",
      "                                                                        u'True',\n",
      "                                                                        u'False',\n",
      "                                                                        u'0',\n",
      "                                                                        u'1'],\n",
      "                                                              u'type': u'string'},\n",
      "                                                             {u'enum': [0,\n",
      "                                                                        1],\n",
      "                                                              u'type': u'number'}]},\n",
      "                      u'float_geq_0_leq_1': {u'maximum': 1.0,\n",
      "                                             u'minimum': 0.0,\n",
      "                                             u'type': u'number'},\n",
      "                      u'float_geq_0_lt_1': {u'exclusiveMaximum': True,\n",
      "                                            u'maximum': 1.0,\n",
      "                                            u'minimum': 0.0,\n",
      "                                            u'type': u'number'},\n",
      "                      u'float_gt_0_lt_1': {u'exclusiveMaximum': True,\n",
      "                                           u'exclusiveMinimum': True,\n",
      "                                           u'maximum': 1.0,\n",
      "                                           u'minimum': 0.0,\n",
      "                                           u'type': u'number'},\n",
      "                      u'layer_set': {u'oneOf': [{u'enum': [u'18',\n",
      "                                                           u'34',\n",
      "                                                           u'50',\n",
      "                                                           u'101',\n",
      "                                                           u'152',\n",
      "                                                           u'200',\n",
      "                                                           u'20',\n",
      "                                                           u'32',\n",
      "                                                           u'44',\n",
      "                                                           u'56',\n",
      "                                                           u'110'],\n",
      "                                                 u'type': u'string'},\n",
      "                                                {u'enum': [18,\n",
      "                                                           34,\n",
      "                                                           50,\n",
      "                                                           101,\n",
      "                                                           152,\n",
      "                                                           200,\n",
      "                                                           20,\n",
      "                                                           32,\n",
      "                                                           44,\n",
      "                                                           56,\n",
      "                                                           110],\n",
      "                                                 u'type': u'number'}]},\n",
      "                      u'one_or_more_integers_sep_by_comma': {u'pattern': u'^([1-9]\\\\d*(,[1-9]\\\\d*)*)?$',\n",
      "                                                             u'type': u'string'}},\n",
      "     u'properties': {u'_benchmark': {u'$ref': u'#/definitions/boolean_0_1'},\n",
      "                     u'_kvstore': {u'enum': [u'dist_sync',\n",
      "                                             u'dist_async'],\n",
      "                                   u'type': u'string'},\n",
      "                     u'_tuning_objective_metric': {u'type': u'string'},\n",
      "                     u'augmentation_type': {u'enum': [u'crop',\n",
      "                                                      u'crop_color',\n",
      "                                                      u'crop_color_transform'],\n",
      "                                            u'type': u'string'},\n",
      "                     u'beta_1': {u'$ref': u'#/definitions/float_gt_0_lt_1'},\n",
      "                     u'beta_2': {u'$ref': u'#/definitions/float_gt_0_lt_1'},\n",
      "                     u'checkpoint_frequency': {u'$ref': u'data_types.json#/definitions/positive_int_string'},\n",
      "                     u'early_stopping': {u'$ref': u'#/definitions/boolean_true_false_0_1'},\n",
      "                     u'early_stopping_min_epochs': {u'$ref': u'data_types.json#/definitions/positive_int_string'},\n",
      "                     u'early_stopping_patience': {u'$ref': u'data_types.json#/definitions/positive_int_string'},\n",
      "                     u'early_stopping_tolerance': {u'$ref': u'#/definitions/float_geq_0_leq_1'},\n",
      "                     u'epochs': {u'$ref': u'data_types.json#/definitions/positive_int_string'},\n",
      "                     u'eps': {u'$ref': u'#/definitions/float_gt_0_lt_1'},\n",
      "                     u'gamma': {u'$ref': u'#/definitions/float_gt_0_lt_1'},\n",
      "                     u'image_shape': {u'pattern': u'^[1-9]\\\\d*,[1-9]\\\\d*,[1-9]\\\\d*$',\n",
      "                                      u'type': u'string'},\n",
      "                     u'kv_store': {u'enum': [u'dist_sync',\n",
      "                                             u'dist_async'],\n",
      "                                   u'type': u'string'},\n",
      "                     u'learning_rate': {u'$ref': u'#/definitions/float_gt_0_lt_1'},\n",
      "                     u'lr_scheduler_factor': {u'$ref': u'#/definitions/float_gt_0_lt_1'},\n",
      "                     u'lr_scheduler_step': {u'$ref': u'#/definitions/one_or_more_integers_sep_by_comma'},\n",
      "                     u'mini_batch_size': {u'$ref': u'data_types.json#/definitions/positive_int_string'},\n",
      "                     u'momentum': {u'$ref': u'#/definitions/float_geq_0_lt_1'},\n",
      "                     u'multi_label': {u'$ref': u'#/definitions/boolean_0_1'},\n",
      "                     u'num_classes': {u'$ref': u'data_types.json#/definitions/positive_int_string'},\n",
      "                     u'num_layers': {u'$ref': u'#/definitions/layer_set'},\n",
      "                     u'num_training_samples': {u'$ref': u'data_types.json#/definitions/positive_int_string'},\n",
      "                     u'optimizer': {u'enum': [u'sgd',\n",
      "                                              u'adam',\n",
      "                                              u'rmsprop',\n",
      "                                              u'nag'],\n",
      "                                    u'type': u'string'},\n",
      "                     u'precision_dtype': {u'enum': [u'float16',\n",
      "                                                    u'float32'],\n",
      "                                          u'type': u'string'},\n",
      "                     u'resize': {u'$ref': u'data_types.json#/definitions/positive_int_string'},\n",
      "                     u'top_k': {u'$ref': u'data_types.json#/definitions/positive_int_string'},\n",
      "                     u'use_pretrained_model': {u'$ref': u'#/definitions/boolean_0_1'},\n",
      "                     u'use_weighted_loss': {u'$ref': u'#/definitions/boolean_0_1'},\n",
      "                     u'weight_decay': {u'$ref': u'#/definitions/float_gt_0_lt_1'}},\n",
      "     u'required': [u'num_classes', u'num_training_samples'],\n",
      "     u'type': u'object',\n",
      "     u'validationMethod': u'enhanced'}\n",
      "\u001b[0m\n",
      "\u001b[34mOn instance:\n",
      "    {u'augmentation_type': u'crop_color_transform',\n",
      "     u'beta_1': 0.9,\n",
      "     u'beta_2': 0.999,\n",
      "     u'epochs': u'5',\n",
      "     u'eps': 1e-08,\n",
      "     u'gamma': 0.9,\n",
      "     u'image_shape': u'(3, 50, 50)',\n",
      "     u'learning_rate': 0.01,\n",
      "     u'lr_scheduler_factor': 0.1,\n",
      "     u'mini_batch_size': u'128',\n",
      "     u'momentum': 0,\n",
      "     u'num_classes': u'2',\n",
      "     u'num_layers': u'18',\n",
      "     u'num_trainnig_samples': u'194266',\n",
      "     u'optimizer': u'sgd',\n",
      "     u'precision_dtype': u'float32',\n",
      "     u'use_pretrained_model': u'1',\n",
      "     u'weight_decay': 0.0001}\u001b[0m\n",
      "\n",
      "2020-10-06 09:36:38 Failed - Training job failed\n"
     ]
    },
    {
     "ename": "UnexpectedStatusException",
     "evalue": "Error for Training job sm-builtin-img-classification-2020-10-06-09-31-04-084: Failed. Reason: ClientError: No value(s) were specified for 'num_training_samples' which are required hyperparameter(s) (caused by ValidationError)\n\nCaused by: u'num_training_samples' is a required property\n\nFailed validating u'required' in schema:\n    {u'$schema': u'http://json-schema.org/schema#',\n     u'additionalProperties': False,\n     u'definitions': {u'boolean_0_1': {u'oneOf': [{u'enum': [u'0',\n                                                             u'1'],\n                                                   u'type': u'string'},\n                                                  {u'enum': [0, 1],\n                                                   u'type': u'number'}]},\n                      u'boolean_true_false_0_1': {u'oneOf': [{u'enum': [u'true',\n                                                                        u'false',\n                                                                        u'True',\n                                                                        u'False',\n                        ",
     "output_type": "error",
     "traceback": [
      "\u001b[0;31m---------------------------------------------------------------------------\u001b[0m",
      "\u001b[0;31mUnexpectedStatusException\u001b[0m                 Traceback (most recent call last)",
      "\u001b[0;32m<ipython-input-13-39a65e232243>\u001b[0m in \u001b[0;36m<module>\u001b[0;34m\u001b[0m\n\u001b[0;32m----> 1\u001b[0;31m \u001b[0mestimator\u001b[0m\u001b[0;34m.\u001b[0m\u001b[0mfit\u001b[0m\u001b[0;34m(\u001b[0m\u001b[0minputs\u001b[0m\u001b[0;34m=\u001b[0m\u001b[0minput_train\u001b[0m\u001b[0;34m)\u001b[0m\u001b[0;34m\u001b[0m\u001b[0;34m\u001b[0m\u001b[0m\n\u001b[0m",
      "\u001b[0;32m~/anaconda3/envs/mxnet_p36/lib/python3.6/site-packages/sagemaker/estimator.py\u001b[0m in \u001b[0;36mfit\u001b[0;34m(self, inputs, wait, logs, job_name, experiment_config)\u001b[0m\n\u001b[1;32m    497\u001b[0m         \u001b[0mself\u001b[0m\u001b[0;34m.\u001b[0m\u001b[0mjobs\u001b[0m\u001b[0;34m.\u001b[0m\u001b[0mappend\u001b[0m\u001b[0;34m(\u001b[0m\u001b[0mself\u001b[0m\u001b[0;34m.\u001b[0m\u001b[0mlatest_training_job\u001b[0m\u001b[0;34m)\u001b[0m\u001b[0;34m\u001b[0m\u001b[0;34m\u001b[0m\u001b[0m\n\u001b[1;32m    498\u001b[0m         \u001b[0;32mif\u001b[0m \u001b[0mwait\u001b[0m\u001b[0;34m:\u001b[0m\u001b[0;34m\u001b[0m\u001b[0;34m\u001b[0m\u001b[0m\n\u001b[0;32m--> 499\u001b[0;31m             \u001b[0mself\u001b[0m\u001b[0;34m.\u001b[0m\u001b[0mlatest_training_job\u001b[0m\u001b[0;34m.\u001b[0m\u001b[0mwait\u001b[0m\u001b[0;34m(\u001b[0m\u001b[0mlogs\u001b[0m\u001b[0;34m=\u001b[0m\u001b[0mlogs\u001b[0m\u001b[0;34m)\u001b[0m\u001b[0;34m\u001b[0m\u001b[0;34m\u001b[0m\u001b[0m\n\u001b[0m\u001b[1;32m    500\u001b[0m \u001b[0;34m\u001b[0m\u001b[0m\n\u001b[1;32m    501\u001b[0m     \u001b[0;32mdef\u001b[0m \u001b[0m_compilation_job_name\u001b[0m\u001b[0;34m(\u001b[0m\u001b[0mself\u001b[0m\u001b[0;34m)\u001b[0m\u001b[0;34m:\u001b[0m\u001b[0;34m\u001b[0m\u001b[0;34m\u001b[0m\u001b[0m\n",
      "\u001b[0;32m~/anaconda3/envs/mxnet_p36/lib/python3.6/site-packages/sagemaker/estimator.py\u001b[0m in \u001b[0;36mwait\u001b[0;34m(self, logs)\u001b[0m\n\u001b[1;32m   1137\u001b[0m         \u001b[0;31m# If logs are requested, call logs_for_jobs.\u001b[0m\u001b[0;34m\u001b[0m\u001b[0;34m\u001b[0m\u001b[0;34m\u001b[0m\u001b[0m\n\u001b[1;32m   1138\u001b[0m         \u001b[0;32mif\u001b[0m \u001b[0mlogs\u001b[0m \u001b[0;34m!=\u001b[0m \u001b[0;34m\"None\"\u001b[0m\u001b[0;34m:\u001b[0m\u001b[0;34m\u001b[0m\u001b[0;34m\u001b[0m\u001b[0m\n\u001b[0;32m-> 1139\u001b[0;31m             \u001b[0mself\u001b[0m\u001b[0;34m.\u001b[0m\u001b[0msagemaker_session\u001b[0m\u001b[0;34m.\u001b[0m\u001b[0mlogs_for_job\u001b[0m\u001b[0;34m(\u001b[0m\u001b[0mself\u001b[0m\u001b[0;34m.\u001b[0m\u001b[0mjob_name\u001b[0m\u001b[0;34m,\u001b[0m \u001b[0mwait\u001b[0m\u001b[0;34m=\u001b[0m\u001b[0;32mTrue\u001b[0m\u001b[0;34m,\u001b[0m \u001b[0mlog_type\u001b[0m\u001b[0;34m=\u001b[0m\u001b[0mlogs\u001b[0m\u001b[0;34m)\u001b[0m\u001b[0;34m\u001b[0m\u001b[0;34m\u001b[0m\u001b[0m\n\u001b[0m\u001b[1;32m   1140\u001b[0m         \u001b[0;32melse\u001b[0m\u001b[0;34m:\u001b[0m\u001b[0;34m\u001b[0m\u001b[0;34m\u001b[0m\u001b[0m\n\u001b[1;32m   1141\u001b[0m             \u001b[0mself\u001b[0m\u001b[0;34m.\u001b[0m\u001b[0msagemaker_session\u001b[0m\u001b[0;34m.\u001b[0m\u001b[0mwait_for_job\u001b[0m\u001b[0;34m(\u001b[0m\u001b[0mself\u001b[0m\u001b[0;34m.\u001b[0m\u001b[0mjob_name\u001b[0m\u001b[0;34m)\u001b[0m\u001b[0;34m\u001b[0m\u001b[0;34m\u001b[0m\u001b[0m\n",
      "\u001b[0;32m~/anaconda3/envs/mxnet_p36/lib/python3.6/site-packages/sagemaker/session.py\u001b[0m in \u001b[0;36mlogs_for_job\u001b[0;34m(self, job_name, wait, poll, log_type)\u001b[0m\n\u001b[1;32m   3075\u001b[0m \u001b[0;34m\u001b[0m\u001b[0m\n\u001b[1;32m   3076\u001b[0m         \u001b[0;32mif\u001b[0m \u001b[0mwait\u001b[0m\u001b[0;34m:\u001b[0m\u001b[0;34m\u001b[0m\u001b[0;34m\u001b[0m\u001b[0m\n\u001b[0;32m-> 3077\u001b[0;31m             \u001b[0mself\u001b[0m\u001b[0;34m.\u001b[0m\u001b[0m_check_job_status\u001b[0m\u001b[0;34m(\u001b[0m\u001b[0mjob_name\u001b[0m\u001b[0;34m,\u001b[0m \u001b[0mdescription\u001b[0m\u001b[0;34m,\u001b[0m \u001b[0;34m\"TrainingJobStatus\"\u001b[0m\u001b[0;34m)\u001b[0m\u001b[0;34m\u001b[0m\u001b[0;34m\u001b[0m\u001b[0m\n\u001b[0m\u001b[1;32m   3078\u001b[0m             \u001b[0;32mif\u001b[0m \u001b[0mdot\u001b[0m\u001b[0;34m:\u001b[0m\u001b[0;34m\u001b[0m\u001b[0;34m\u001b[0m\u001b[0m\n\u001b[1;32m   3079\u001b[0m                 \u001b[0mprint\u001b[0m\u001b[0;34m(\u001b[0m\u001b[0;34m)\u001b[0m\u001b[0;34m\u001b[0m\u001b[0;34m\u001b[0m\u001b[0m\n",
      "\u001b[0;32m~/anaconda3/envs/mxnet_p36/lib/python3.6/site-packages/sagemaker/session.py\u001b[0m in \u001b[0;36m_check_job_status\u001b[0;34m(self, job, desc, status_key_name)\u001b[0m\n\u001b[1;32m   2669\u001b[0m                 ),\n\u001b[1;32m   2670\u001b[0m                 \u001b[0mallowed_statuses\u001b[0m\u001b[0;34m=\u001b[0m\u001b[0;34m[\u001b[0m\u001b[0;34m\"Completed\"\u001b[0m\u001b[0;34m,\u001b[0m \u001b[0;34m\"Stopped\"\u001b[0m\u001b[0;34m]\u001b[0m\u001b[0;34m,\u001b[0m\u001b[0;34m\u001b[0m\u001b[0;34m\u001b[0m\u001b[0m\n\u001b[0;32m-> 2671\u001b[0;31m                 \u001b[0mactual_status\u001b[0m\u001b[0;34m=\u001b[0m\u001b[0mstatus\u001b[0m\u001b[0;34m,\u001b[0m\u001b[0;34m\u001b[0m\u001b[0;34m\u001b[0m\u001b[0m\n\u001b[0m\u001b[1;32m   2672\u001b[0m             )\n\u001b[1;32m   2673\u001b[0m \u001b[0;34m\u001b[0m\u001b[0m\n",
      "\u001b[0;31mUnexpectedStatusException\u001b[0m: Error for Training job sm-builtin-img-classification-2020-10-06-09-31-04-084: Failed. Reason: ClientError: No value(s) were specified for 'num_training_samples' which are required hyperparameter(s) (caused by ValidationError)\n\nCaused by: u'num_training_samples' is a required property\n\nFailed validating u'required' in schema:\n    {u'$schema': u'http://json-schema.org/schema#',\n     u'additionalProperties': False,\n     u'definitions': {u'boolean_0_1': {u'oneOf': [{u'enum': [u'0',\n                                                             u'1'],\n                                                   u'type': u'string'},\n                                                  {u'enum': [0, 1],\n                                                   u'type': u'number'}]},\n                      u'boolean_true_false_0_1': {u'oneOf': [{u'enum': [u'true',\n                                                                        u'false',\n                                                                        u'True',\n                                                                        u'False',\n                        "
     ]
    }
   ],
   "source": [
    "estimator.fit(inputs=input_train)"
   ]
  },
  {
   "cell_type": "code",
   "execution_count": null,
   "metadata": {},
   "outputs": [],
   "source": []
  }
 ],
 "metadata": {
  "kernelspec": {
   "display_name": "conda_mxnet_p36",
   "language": "python",
   "name": "conda_mxnet_p36"
  },
  "language_info": {
   "codemirror_mode": {
    "name": "ipython",
    "version": 3
   },
   "file_extension": ".py",
   "mimetype": "text/x-python",
   "name": "python",
   "nbconvert_exporter": "python",
   "pygments_lexer": "ipython3",
   "version": "3.6.10"
  }
 },
 "nbformat": 4,
 "nbformat_minor": 4
}
