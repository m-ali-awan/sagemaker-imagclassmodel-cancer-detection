{
 "cells": [
  {
   "cell_type": "code",
   "execution_count": 1,
   "metadata": {},
   "outputs": [],
   "source": [
    "import boto3\n",
    "import sagemaker\n",
    "from sagemaker import get_execution_role\n",
    "from sagemaker.amazon.amazon_estimator import get_image_uri"
   ]
  },
  {
   "cell_type": "code",
   "execution_count": 12,
   "metadata": {},
   "outputs": [],
   "source": [
    "bucket='sagemaker-builtin-imageclass-cancer-detection'\n",
    "input_prefix='breast-cancer-detection/input/recordio'\n",
    "input_train='s3://{}/{}/train'.format(bucket,input_prefix)\n",
    "input_test='s3://{}/{}/test'.format(bucket,input_prefix)"
   ]
  },
  {
   "cell_type": "code",
   "execution_count": 3,
   "metadata": {},
   "outputs": [],
   "source": [
    "output_prefix='breast-cancer-detection/output'\n",
    "output_path='s3://{}/{}/'.format(bucket,output_prefix)"
   ]
  },
  {
   "cell_type": "code",
   "execution_count": 19,
   "metadata": {},
   "outputs": [],
   "source": [
    "# Cofiguring the hyperparameters\n",
    "\n",
    "num_classes=2\n",
    "num_trainnig_samples=194266\n",
    "num_layers=18\n",
    "mini_batch_size=128\n",
    "image_shape='3,50,50'\n",
    "augmentation_type='crop_color_transform'\n",
    "epochs=5\n",
    "learning_rate=0.01\n",
    "use_pretrained_model=1\n",
    "\n"
   ]
  },
  {
   "cell_type": "code",
   "execution_count": 20,
   "metadata": {},
   "outputs": [],
   "source": [
    "instance_count=1\n",
    "instance_type='ml.p2.16xlarge'\n",
    "volume_size_gb=50"
   ]
  },
  {
   "cell_type": "code",
   "execution_count": 21,
   "metadata": {},
   "outputs": [
    {
     "name": "stderr",
     "output_type": "stream",
     "text": [
      "'get_image_uri' method will be deprecated in favor of 'ImageURIProvider' class in SageMaker Python SDK v2.\n"
     ]
    }
   ],
   "source": [
    "role=get_execution_role()\n",
    "training_image=get_image_uri(boto3.Session().region_name,'image-classification')"
   ]
  },
  {
   "cell_type": "code",
   "execution_count": 22,
   "metadata": {},
   "outputs": [],
   "source": [
    "train_timeout=360000\n"
   ]
  },
  {
   "cell_type": "code",
   "execution_count": 27,
   "metadata": {},
   "outputs": [],
   "source": [
    "session=sagemaker.Session()\n"
   ]
  },
  {
   "cell_type": "code",
   "execution_count": 28,
   "metadata": {},
   "outputs": [
    {
     "name": "stderr",
     "output_type": "stream",
     "text": [
      "Parameter image_name will be renamed to image_uri in SageMaker Python SDK v2.\n"
     ]
    }
   ],
   "source": [
    "estimator=sagemaker.estimator.Estimator(training_image,\n",
    "                                       role,\n",
    "                                       train_instance_count=instance_count,\n",
    "                                       train_instance_type=instance_type,\n",
    "                                       train_volume_size=volume_size_gb,\n",
    "                                       train_max_run=train_timeout,\n",
    "                                       output_path=output_path,\n",
    "                                       base_job_name='sm-builtin-img-classification',\n",
    "                                       sagemaker_session=session\n",
    "                                       )"
   ]
  },
  {
   "cell_type": "code",
   "execution_count": 29,
   "metadata": {},
   "outputs": [],
   "source": [
    "estimator.set_hyperparameters(num_classes=num_classes,\n",
    "                             num_training_samples=1,\n",
    "                             num_layers=num_layers,\n",
    "                             mini_batch_size=mini_batch_size,\n",
    "                             image_shape=image_shape,\n",
    "                             augmentation_type=augmentation_type,\n",
    "                             epochs=epochs,\n",
    "                             learning_rate=learning_rate,\n",
    "                             use_pretrained_model=use_pretrained_model)"
   ]
  },
  {
   "cell_type": "code",
   "execution_count": null,
   "metadata": {},
   "outputs": [
    {
     "name": "stderr",
     "output_type": "stream",
     "text": [
      "'s3_input' class will be renamed to 'TrainingInput' in SageMaker Python SDK v2.\n"
     ]
    },
    {
     "name": "stdout",
     "output_type": "stream",
     "text": [
      "2020-10-06 10:36:25 Starting - Starting the training job...\n",
      "2020-10-06 10:36:28 Starting - Launching requested ML instances......."
     ]
    }
   ],
   "source": [
    "estimator.fit(inputs=input_train)"
   ]
  },
  {
   "cell_type": "code",
   "execution_count": null,
   "metadata": {},
   "outputs": [],
   "source": []
  }
 ],
 "metadata": {
  "kernelspec": {
   "display_name": "conda_mxnet_p36",
   "language": "python",
   "name": "conda_mxnet_p36"
  },
  "language_info": {
   "codemirror_mode": {
    "name": "ipython",
    "version": 3
   },
   "file_extension": ".py",
   "mimetype": "text/x-python",
   "name": "python",
   "nbconvert_exporter": "python",
   "pygments_lexer": "ipython3",
   "version": "3.6.10"
  }
 },
 "nbformat": 4,
 "nbformat_minor": 4
}
